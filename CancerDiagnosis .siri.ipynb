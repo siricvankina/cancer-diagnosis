{
 "cells": [
  {
   "cell_type": "code",
   "execution_count": 1,
   "id": "f929b2b6",
   "metadata": {},
   "outputs": [],
   "source": [
    "from sklearn.cluster import KMeans\n",
    "from sklearn import preprocessing\n",
    "from sklearn.metrics import accuracy_score\n"
   ]
  },
  {
   "cell_type": "code",
   "execution_count": 2,
   "id": "178c6a5d",
   "metadata": {},
   "outputs": [],
   "source": [
    "import numpy as np\n",
    "import pandas as pd"
   ]
  },
  {
   "cell_type": "markdown",
   "id": "a4bb182d",
   "metadata": {},
   "source": [
    "A)Read the dataset file “Cancer.csv” (from github using the following command), and assign it to a Pandas DataFrame:\n",
    "\n",
    "df  = pd.read_csv(\"https://github.com/mpourhoma/CS4661/raw/master/Cancer.csv\") Check out the dataset. As you see, the dataset includes 9 numerical features. The last column is the binary label (“1” means it is a malignant cancer, “0” means it is a benign tumor). You will use all 9 features in this homework."
   ]
  },
  {
   "cell_type": "code",
   "execution_count": 3,
   "id": "c928d6a0",
   "metadata": {},
   "outputs": [],
   "source": [
    "cancer_df = pd.read_csv(\"https://github.com/mpourhoma/CS4661/raw/master/Cancer.csv\")"
   ]
  },
  {
   "cell_type": "code",
   "execution_count": 4,
   "id": "482e0541",
   "metadata": {},
   "outputs": [
    {
     "data": {
      "text/html": [
       "<div>\n",
       "<style scoped>\n",
       "    .dataframe tbody tr th:only-of-type {\n",
       "        vertical-align: middle;\n",
       "    }\n",
       "\n",
       "    .dataframe tbody tr th {\n",
       "        vertical-align: top;\n",
       "    }\n",
       "\n",
       "    .dataframe thead th {\n",
       "        text-align: right;\n",
       "    }\n",
       "</style>\n",
       "<table border=\"1\" class=\"dataframe\">\n",
       "  <thead>\n",
       "    <tr style=\"text-align: right;\">\n",
       "      <th></th>\n",
       "      <th>Clump_Thickness</th>\n",
       "      <th>Uniformity_of_Cell_Size</th>\n",
       "      <th>Uniformity_of_Cell_Shape</th>\n",
       "      <th>Marginal_Adhesion</th>\n",
       "      <th>Single_Epithelial_Cell_Size</th>\n",
       "      <th>Bare_Nuclei</th>\n",
       "      <th>Bland_Chromatin</th>\n",
       "      <th>Normal_Nucleoli</th>\n",
       "      <th>Mitoses</th>\n",
       "      <th>Malignant_Cancer</th>\n",
       "    </tr>\n",
       "  </thead>\n",
       "  <tbody>\n",
       "    <tr>\n",
       "      <th>0</th>\n",
       "      <td>5</td>\n",
       "      <td>1</td>\n",
       "      <td>1</td>\n",
       "      <td>1</td>\n",
       "      <td>2</td>\n",
       "      <td>1</td>\n",
       "      <td>3</td>\n",
       "      <td>1</td>\n",
       "      <td>1</td>\n",
       "      <td>0</td>\n",
       "    </tr>\n",
       "    <tr>\n",
       "      <th>1</th>\n",
       "      <td>5</td>\n",
       "      <td>4</td>\n",
       "      <td>4</td>\n",
       "      <td>5</td>\n",
       "      <td>7</td>\n",
       "      <td>10</td>\n",
       "      <td>3</td>\n",
       "      <td>2</td>\n",
       "      <td>1</td>\n",
       "      <td>0</td>\n",
       "    </tr>\n",
       "    <tr>\n",
       "      <th>2</th>\n",
       "      <td>3</td>\n",
       "      <td>1</td>\n",
       "      <td>1</td>\n",
       "      <td>1</td>\n",
       "      <td>2</td>\n",
       "      <td>2</td>\n",
       "      <td>3</td>\n",
       "      <td>1</td>\n",
       "      <td>1</td>\n",
       "      <td>0</td>\n",
       "    </tr>\n",
       "    <tr>\n",
       "      <th>3</th>\n",
       "      <td>6</td>\n",
       "      <td>8</td>\n",
       "      <td>8</td>\n",
       "      <td>1</td>\n",
       "      <td>3</td>\n",
       "      <td>4</td>\n",
       "      <td>3</td>\n",
       "      <td>7</td>\n",
       "      <td>1</td>\n",
       "      <td>0</td>\n",
       "    </tr>\n",
       "    <tr>\n",
       "      <th>4</th>\n",
       "      <td>4</td>\n",
       "      <td>1</td>\n",
       "      <td>1</td>\n",
       "      <td>3</td>\n",
       "      <td>2</td>\n",
       "      <td>1</td>\n",
       "      <td>3</td>\n",
       "      <td>1</td>\n",
       "      <td>1</td>\n",
       "      <td>0</td>\n",
       "    </tr>\n",
       "  </tbody>\n",
       "</table>\n",
       "</div>"
      ],
      "text/plain": [
       "   Clump_Thickness  Uniformity_of_Cell_Size  Uniformity_of_Cell_Shape  \\\n",
       "0                5                        1                         1   \n",
       "1                5                        4                         4   \n",
       "2                3                        1                         1   \n",
       "3                6                        8                         8   \n",
       "4                4                        1                         1   \n",
       "\n",
       "   Marginal_Adhesion  Single_Epithelial_Cell_Size  Bare_Nuclei  \\\n",
       "0                  1                            2            1   \n",
       "1                  5                            7           10   \n",
       "2                  1                            2            2   \n",
       "3                  1                            3            4   \n",
       "4                  3                            2            1   \n",
       "\n",
       "   Bland_Chromatin  Normal_Nucleoli  Mitoses  Malignant_Cancer  \n",
       "0                3                1        1                 0  \n",
       "1                3                2        1                 0  \n",
       "2                3                1        1                 0  \n",
       "3                3                7        1                 0  \n",
       "4                3                1        1                 0  "
      ]
     },
     "execution_count": 4,
     "metadata": {},
     "output_type": "execute_result"
    }
   ],
   "source": [
    "cancer_df.head()"
   ]
  },
  {
   "cell_type": "code",
   "execution_count": 5,
   "id": "69f025fd",
   "metadata": {},
   "outputs": [],
   "source": [
    "feature_cols = ['Clump_Thickness','Uniformity_of_Cell_Size','Uniformity_of_Cell_Shape',\n",
    "                'Marginal_Adhesion','Single_Epithelial_Cell_Size','Bare_Nuclei',\n",
    "                'Bland_Chromatin','Normal_Nucleoli','Mitoses']\n",
    "X = cancer_df[feature_cols] "
   ]
  },
  {
   "cell_type": "code",
   "execution_count": 6,
   "id": "b85b6cd7",
   "metadata": {},
   "outputs": [],
   "source": [
    "y = cancer_df['Malignant_Cancer']"
   ]
  },
  {
   "cell_type": "markdown",
   "id": "dbd4f511",
   "metadata": {},
   "source": [
    "B)Use sklearn functions to split the dataset into testing and training sets with the following parameters: test_size=0.35, random_state=3."
   ]
  },
  {
   "cell_type": "code",
   "execution_count": 7,
   "id": "b1f5efea",
   "metadata": {},
   "outputs": [
    {
     "name": "stdout",
     "output_type": "stream",
     "text": [
      "(97, 9)\n",
      "(97,)\n",
      "(53, 9)\n",
      "(53,)\n"
     ]
    }
   ],
   "source": [
    "from sklearn.model_selection import train_test_split\n",
    "\n",
    "X_train, X_test, y_train, y_test = train_test_split(X, y, test_size=0.35, random_state=3)\n",
    "\n",
    "\n",
    "print(X_train.shape)\n",
    "print(y_train.shape)\n",
    "\n",
    "\n",
    "print(X_test.shape)\n",
    "\n",
    "print(y_test.shape)"
   ]
  },
  {
   "cell_type": "markdown",
   "id": "c601822c",
   "metadata": {},
   "source": [
    "C)Use “Decision Tree Classifier” to predict Cancer based on the training/testing datasets that you built in part (b). Then, calculate and report the accuracy of your classifier.\n",
    "\n",
    "Use this command to define your tree: my_DecisionTree = DecisionTreeClassifier(random_state=3)."
   ]
  },
  {
   "cell_type": "code",
   "execution_count": 8,
   "id": "8929c92b",
   "metadata": {},
   "outputs": [
    {
     "name": "stdout",
     "output_type": "stream",
     "text": [
      "Accuracy of decisiontree: 0.8301886792452831\n"
     ]
    }
   ],
   "source": [
    "from sklearn.tree import DecisionTreeClassifier\n",
    "my_DecisionTree = DecisionTreeClassifier(random_state=3)\n",
    "my_DecisionTree.fit(X_train, y_train)\n",
    "y_predict_dt = my_DecisionTree.predict(X_test)\n",
    "accu_dt = accuracy_score(y_test, y_predict_dt)\n",
    "\n",
    "print('Accuracy of decisiontree:',accu_dt)"
   ]
  },
  {
   "cell_type": "markdown",
   "id": "cad10dd7",
   "metadata": {},
   "source": [
    " D)Now, we want to perform a new Ensemble Learning method called “Bagging” based on Voting on 19 decision tree classifiers.\n",
    "\n",
    "Note: you should write your own code to perform Bagging (don’t use scikit-learn functions for Bagging!) To do so, you need to perform bootstrapping first. You can write a “for” loop with loop variable  i = 0…18.  \n",
    "\n",
    "In each iteration of the loop, you have to:\n",
    "\n",
    "1. make a bootstarp sample of the original “Training” Dataset (build in part(b)) with the size of bootstarp_size = 0.8*(Size of the original training dataset). You can use the following command to generate a random bootstrap dataset (“i\" is the variable of the loop, so the random_state changes in each iteration):\n",
    "\n",
    "resample(X_train, n_samples = bootstarp_size , random_state=i , replace = True)\n",
    "\n",
    "2. Define and train a new base decision tree classifier on this dataset in each iteration:\n",
    "\n",
    "Base_DecisionTree = DecisionTreeClassifier(random_state=3).\n",
    "\n",
    "3. Perform prediction using “this base classifier” on the original “Testing” Dataset X_test (build in part(b)), and save the prediction results for all testing samples.\n",
    "\n",
    "After finishing the “for” loop, you should have 19 different predictions for EACH sample in your testing set. Then, Perform Voting to make the final decision on each data sample based on the votes of all 19 classifiers.\n",
    "\n",
    "Finally, calculate and report the final accuracy of your Bagging (Voting) method."
   ]
  },
  {
   "cell_type": "code",
   "execution_count": 9,
   "id": "9f4390ca",
   "metadata": {},
   "outputs": [
    {
     "name": "stdout",
     "output_type": "stream",
     "text": [
      "samples\n",
      "sample 0 :  [1 1 1 1 1 0 1 1 1 1 0 1 1 1 0 1 0 0 1 1 0 1 0 0 1 1 1 1 0 1 1 1 0 1 0 0 0\n",
      " 0 1 0 0 0 1 1 0 0 1 1 1 1 0 1 1]\n",
      "\n",
      "\n",
      "sample 1 :  [1 1 1 1 1 0 1 1 1 1 0 1 1 1 0 1 0 0 1 1 0 1 0 0 1 1 1 1 0 1 1 1 0 0 0 0 0\n",
      " 0 1 0 0 0 1 1 0 1 1 0 1 1 0 1 1]\n",
      "\n",
      "\n",
      "sample 2 :  [1 1 0 1 1 0 1 0 1 1 0 1 0 1 0 1 0 0 1 1 0 1 0 0 1 1 1 1 0 1 0 1 0 0 0 0 0\n",
      " 0 1 0 0 0 1 0 0 0 1 1 1 1 0 1 1]\n",
      "\n",
      "\n",
      "sample 3 :  [0 1 0 1 1 0 1 0 1 1 0 0 0 1 0 1 0 0 1 1 0 1 0 0 1 1 1 1 0 1 1 1 0 0 0 0 0\n",
      " 0 1 0 0 0 0 1 0 1 1 0 0 1 0 1 1]\n",
      "\n",
      "\n",
      "sample 4 :  [1 1 1 1 1 0 1 0 1 1 0 1 1 1 0 1 0 1 1 1 0 1 0 0 1 1 1 1 0 1 0 1 0 0 0 0 0\n",
      " 0 1 0 0 0 1 1 0 0 1 1 1 1 0 1 1]\n",
      "\n",
      "\n",
      "sample 5 :  [1 1 1 1 1 0 1 0 1 1 0 0 0 1 0 1 0 0 1 1 0 1 0 0 1 1 1 1 0 1 1 1 0 0 0 0 0\n",
      " 0 1 0 0 0 1 1 0 1 1 0 1 1 0 1 1]\n",
      "\n",
      "\n",
      "sample 6 :  [1 1 1 1 1 0 1 0 1 1 0 1 1 1 0 1 0 1 1 1 0 1 0 0 1 1 1 1 0 1 0 1 0 0 0 0 0\n",
      " 0 1 0 0 0 1 1 0 0 1 1 1 1 0 1 1]\n",
      "\n",
      "\n",
      "sample 7 :  [0 1 1 1 1 0 1 0 1 1 0 0 0 1 0 1 0 0 1 1 0 1 0 0 1 1 1 1 0 1 1 1 0 0 0 0 0\n",
      " 0 1 0 0 0 1 1 0 1 1 0 1 1 0 1 1]\n",
      "\n",
      "\n",
      "sample 8 :  [1 1 0 1 1 0 1 0 1 1 0 1 0 1 0 1 0 0 0 1 0 1 0 0 1 1 1 1 0 1 0 0 0 0 0 0 0\n",
      " 0 1 0 0 0 1 0 0 0 1 1 1 1 0 1 1]\n",
      "\n",
      "\n",
      "sample 9 :  [1 1 1 1 1 0 1 0 1 1 0 0 1 1 0 1 0 0 1 1 0 1 0 0 1 1 1 1 0 1 0 1 0 0 0 0 0\n",
      " 0 1 0 0 0 1 0 0 0 1 0 1 1 0 1 1]\n",
      "\n",
      "\n",
      "sample 10 :  [1 1 1 1 1 0 1 0 1 1 0 0 1 1 0 1 0 0 1 1 0 1 0 0 1 1 1 1 1 1 1 1 0 0 0 0 0\n",
      " 0 1 0 0 0 1 1 0 1 1 0 1 1 1 1 1]\n",
      "\n",
      "\n",
      "sample 11 :  [0 1 1 1 1 0 1 0 1 1 0 1 1 1 0 1 0 1 1 1 0 1 0 0 1 1 1 1 0 1 0 1 0 0 0 0 0\n",
      " 0 1 0 0 0 1 1 0 0 1 1 1 1 0 1 1]\n",
      "\n",
      "\n",
      "sample 12 :  [0 1 0 1 1 0 1 1 1 1 0 1 1 1 0 1 0 0 1 1 0 1 0 0 1 1 1 1 0 1 1 1 0 0 0 0 0\n",
      " 0 1 0 0 0 0 0 0 0 1 0 1 1 0 1 1]\n",
      "\n",
      "\n",
      "sample 13 :  [0 1 1 1 1 0 1 0 0 1 0 1 0 0 0 1 0 1 1 1 0 1 0 0 1 1 1 1 0 1 0 1 0 0 0 0 0\n",
      " 0 1 0 0 0 0 1 0 0 1 0 0 1 0 1 0]\n",
      "\n",
      "\n",
      "sample 14 :  [1 1 1 1 1 0 1 0 1 1 0 0 0 1 0 1 0 0 1 1 0 1 0 0 1 1 1 1 0 1 1 1 0 0 0 0 0\n",
      " 0 1 0 0 0 1 1 0 1 1 0 1 1 0 1 1]\n",
      "\n",
      "\n",
      "sample 15 :  [1 1 1 1 1 0 1 0 1 1 0 1 1 1 0 1 0 0 1 1 0 1 0 0 1 1 1 1 0 0 0 1 0 0 0 0 0\n",
      " 0 1 0 0 0 1 1 0 0 1 1 1 1 0 1 1]\n",
      "\n",
      "\n",
      "sample 16 :  [1 1 0 1 1 0 1 0 1 1 0 1 0 1 0 1 0 0 1 1 0 1 0 0 1 1 1 1 0 1 1 1 0 0 0 0 0\n",
      " 0 1 0 0 0 1 0 0 1 1 1 1 1 1 1 1]\n",
      "\n",
      "\n",
      "sample 17 :  [1 1 1 1 1 0 1 1 1 1 0 1 1 1 0 1 0 0 1 1 0 1 0 0 1 1 1 1 0 1 1 1 0 0 0 0 0\n",
      " 0 1 0 0 0 0 1 0 0 1 0 1 1 0 1 1]\n",
      "\n",
      "\n",
      "sample 18 :  [1 1 1 1 1 0 1 0 1 1 0 1 1 1 0 1 0 0 1 1 0 1 0 0 1 1 1 1 0 1 0 1 0 0 0 0 0\n",
      " 0 1 0 0 0 1 1 0 0 1 1 1 1 0 1 1]\n",
      "\n",
      "\n",
      "mode of each [1, 1, 1, 1, 1, 0, 1, 0, 1, 1, 0, 1, 1, 1, 0, 1, 0, 0, 1, 1, 0, 1, 0, 0, 1, 1, 1, 1, 0, 1, 1, 1, 0, 0, 0, 0, 0, 0, 1, 0, 0, 0, 1, 1, 0, 0, 1, 0, 1, 1, 0, 1, 1]\n",
      "final accuracy 0.9056603773584906\n"
     ]
    }
   ],
   "source": [
    "from sklearn.metrics import accuracy_score\n",
    "from sklearn.utils import resample\n",
    "from statistics import mode\n",
    "from scipy import stats\n",
    "from itertools import chain\n",
    "prediction =[]\n",
    "y_predict_voting=[]\n",
    "bootstrap_size=int(0.8*(X_train.shape[0]))\n",
    "print(\"samples\")\n",
    "\n",
    "for i in range(19):\n",
    "    new_X_train, new_Y_train=resample(X_train, y_train,n_samples = bootstrap_size , random_state=i, replace=True)\n",
    "    Base_DecisionTree= DecisionTreeClassifier(random_state=3)\n",
    "    Base_DecisionTree.fit(new_X_train, new_Y_train)\n",
    "    y_predict_bdt=Base_DecisionTree.predict(X_test)\n",
    "    prediction.append(y_predict_bdt)\n",
    "    print(\"sample\",i,\":\",'',prediction[i])\n",
    "    print(\"\\n\")\n",
    "predictionMatrix=np.transpose(np.matrix(prediction))\n",
    "mode_list=stats.mode(predictionMatrix,axis=1)\n",
    "y_predict_voting = mode_list[0].tolist()\n",
    "\n",
    "print(\"mode of each\",list(chain(*y_predict_voting)))\n",
    "accuracy_list = accuracy_score(y_test,y_predict_voting)\n",
    "print(\"final accuracy\",accuracy_list)"
   ]
  },
  {
   "cell_type": "markdown",
   "id": "05f7b8f6",
   "metadata": {},
   "source": [
    "E)Use scikit-learn “Random Forest” classifier to predict Cancer based on the training/testing datasets that you built in part (b). Then, calculate and report the accuracy of your classifier. Use this command to import and define your classifier:\n",
    "\n",
    "from   sklearn.ensemble    import    RandomForestClassifier\n",
    "\n",
    "my_RandomForest = RandomForestClassifier(n_estimators = 19, bootstrap = True, random_state=3)\n",
    "\n",
    "Similar to previous syntax, use my_RandomForest.fit  for training your random forest classifier and my_RandomForest.predict  for prediction."
   ]
  },
  {
   "cell_type": "code",
   "execution_count": 10,
   "id": "39619fac",
   "metadata": {},
   "outputs": [
    {
     "name": "stdout",
     "output_type": "stream",
     "text": [
      "Accuracy of RandomForest: 0.9245283018867925\n"
     ]
    }
   ],
   "source": [
    "from   sklearn.ensemble    import    RandomForestClassifier\n",
    "\n",
    "my_RandomForest = RandomForestClassifier(n_estimators = 19, bootstrap = True, random_state=3)\n",
    "my_RandomForest.fit(X_train,y_train)\n",
    "y_predict_rf = my_RandomForest.predict(X_test)\n",
    "accu_rf = accuracy_score(y_test, y_predict_rf)\n",
    "print('Accuracy of RandomForest:',accu_rf)"
   ]
  }
 ],
 "metadata": {
  "interpreter": {
   "hash": "40d3a090f54c6569ab1632332b64b2c03c39dcf918b08424e98f38b5ae0af88f"
  },
  "kernelspec": {
   "display_name": "Python 3",
   "language": "python",
   "name": "python3"
  },
  "language_info": {
   "codemirror_mode": {
    "name": "ipython",
    "version": 3
   },
   "file_extension": ".py",
   "mimetype": "text/x-python",
   "name": "python",
   "nbconvert_exporter": "python",
   "pygments_lexer": "ipython3",
   "version": "3.8.8"
  }
 },
 "nbformat": 4,
 "nbformat_minor": 5
}
